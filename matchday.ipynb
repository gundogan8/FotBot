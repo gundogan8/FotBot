{
 "cells": [
  {
   "cell_type": "code",
   "execution_count": 268,
   "id": "ec6b891d",
   "metadata": {},
   "outputs": [
    {
     "name": "stdout",
     "output_type": "stream",
     "text": [
      "nyan!\n"
     ]
    }
   ],
   "source": [
    "print('nyan!')"
   ]
  },
  {
   "cell_type": "code",
   "execution_count": 1,
   "id": "cc68e241",
   "metadata": {},
   "outputs": [],
   "source": [
    "import pandas as pd\n",
    "import time\n",
    "import re\n",
    "import tweepy\n",
    "import requests\n",
    "from bs4 import BeautifulSoup\n",
    "from types import MappingProxyType\n",
    "import datetime\n",
    "\n",
    "# 2022-23のプレミアリーグ20クラブ\n",
    "EPL_CODE = [\n",
    "    'ブレントフォード','リヴァプール','エヴァートン','ブライトン','レスター','フラム','アーセナル','ニューカッスル',\n",
    "    'マンチェスター・U','ボーンマス','サウサンプトン','フォレスト','リーズ','ウェストハム','アストン・ヴィラ',\n",
    "    'ウルヴァーハンプトン','クリスタル・パレス','トッテナム','チェルシー','マンチェスター・C'\n",
    "]\n",
    "\n",
    "# BIG6 + ちょっと気になる\n",
    "BIG6_CODE = [\n",
    "    'アーセナル',\n",
    "    'マンチェスター・U',\n",
    "    'マンチェスター・C',\n",
    "    'トッテナム',\n",
    "    'チェルシー',\n",
    "    'リヴァプール',\n",
    "    'ニューカッスル',\n",
    "    'リーズ',\n",
    "    'ブレントフォード'\n",
    "]\n",
    "\n",
    "# 曜日（英語 ⇒ 日本語）\n",
    "WEEK_DAYS_DICT: dict = MappingProxyType({\n",
    "        'Mon':'（月）',\n",
    "        'Tue':'（火）',\n",
    "        'Wed':'（水）',\n",
    "        'Thu':'（木）',\n",
    "        'Fri':'（金）',\n",
    "        'Sat':'（土）',\n",
    "        'Sun':'（日）'\n",
    "})"
   ]
  },
  {
   "cell_type": "code",
   "execution_count": 26,
   "id": "6448477e",
   "metadata": {},
   "outputs": [],
   "source": [
    "def scrapeSportsNaviPage(t_yyyymmdd: str, t_en_week_name: str, y_yyyymmdd: str, y_en_week_name: str):\n",
    "    \"\"\"\n",
    "    SportsNaviより引数で指定された開催日・曜日（英語）より、対戦相手および試合日時を取得する関数。\n",
    "    \"\"\"\n",
    "    print('scrapeSportsNaviPage start')\n",
    "    \n",
    "    # 曜日の英語 ⇒ 日本語へ変換\n",
    "    t_ja_week_name = WEEK_DAYS_DICT.get(t_en_week_name)\n",
    "    y_ja_week_name = WEEK_DAYS_DICT.get(y_en_week_name)\n",
    "    \n",
    "    # 検索キーの作成\n",
    "    t_search_key = str(int(t_yyyymmdd[4:6])) + '/' + str(int(t_yyyymmdd[6:8])) + t_ja_week_name\n",
    "    y_search_key = str(int(y_yyyymmdd[4:6])) + '/' + str(int(y_yyyymmdd[6:8])) + y_ja_week_name\n",
    "\n",
    "    # 対象ページ\n",
    "    url = 'https://soccer.yahoo.co.jp/ws/category/eng'\n",
    "\n",
    "    # スクレイピング\n",
    "    top_r = requests.get(url)\n",
    "\n",
    "    # HTMLを解析する\n",
    "    top_soup = BeautifulSoup(top_r.content, \"html.parser\")\n",
    "\n",
    "    # テーブル情報を取得\n",
    "    td_list = top_soup.find\\\n",
    "            ('table', class_='sc-tableGame').find_all('td')\n",
    "\n",
    "    # 日付\n",
    "    match_datetime_list = []\n",
    "    match_datetime_list_ans = [] #空文字削除後\n",
    "    \n",
    "    # 節\n",
    "    match_kinds_list = []\n",
    "\n",
    "    # チーム\n",
    "    team_name_list = []\n",
    "    \n",
    "    for td in td_list:\n",
    "            # 検索対象の試合日時の場合（00:00～24:00）\n",
    "            # print(td.text)\n",
    "            if t_search_key in td.text:\n",
    "                work_td = td.text.split('\\n')\n",
    "                for name in work_td:\n",
    "                    if re.search(r'(\\d*):(\\d*)', name) is not None:\n",
    "                        match_datetime_list.append(name)\n",
    "                        \n",
    "            # 検索対象の試合日時の場合（24:01～）\n",
    "            if y_search_key in td.text:\n",
    "                work_td = td.text.split('\\n')\n",
    "                for name in work_td:\n",
    "                    if re.search(r'(\\d*):(\\d*)', name) is not None:\n",
    "                        match_datetime_list.append(name)\n",
    "\n",
    "                        \n",
    "            # クラブ名を取得\n",
    "            for num in range(len(EPL_CODE)):\n",
    "                if EPL_CODE[num] in td.text:\n",
    "                    team_name_list.append(EPL_CODE[num])\n",
    "            \n",
    "    # クラブ名リストの空文字を削除\n",
    "    team_name_list = [a for a in team_name_list if a != '']    \n",
    "\n",
    "    print('scrapeSportsNaviPage end')\n",
    "    \n",
    "    for name in match_datetime_list:\n",
    "        #print(name)\n",
    "        name = name.lstrip()\n",
    "        #print(name)\n",
    "        match_datetime_list_ans.append(name)\n",
    "        \n",
    "    match_day_list = []\n",
    "    match_day_list.append(t_search_key)\n",
    "    match_day_list.append(y_search_key)\n",
    "        \n",
    "    return match_day_list, match_datetime_list_ans, team_name_list, ;"
   ]
  },
  {
   "cell_type": "code",
   "execution_count": 30,
   "id": "def068b8",
   "metadata": {},
   "outputs": [
    {
     "name": "stdout",
     "output_type": "stream",
     "text": [
      "2023-01-04 22:43:07.192392 20230104 Wed\n",
      "2023-01-03 22:43:07.192392 20230103 Tue\n"
     ]
    }
   ],
   "source": [
    "# 現在時刻の取得\n",
    "today = datetime.datetime.now() \n",
    "t_yyyymmdd = today.strftime(\"%Y%m%d\")\n",
    "t_yyyymmdd_week = today.strftime(\"%a\")\n",
    "\n",
    "print(today, t_yyyymmdd, t_yyyymmdd_week)\n",
    "\n",
    "# 操作後の日付取得\n",
    "yesterday = today + datetime.timedelta(-1)\n",
    "y_yyyymmdd = yesterday.strftime(\"%Y%m%d\")\n",
    "y_yyyymmdd_week = yesterday.strftime(\"%a\")\n",
    "\n",
    "print(yesterday, y_yyyymmdd, y_yyyymmdd_week)"
   ]
  },
  {
   "cell_type": "code",
   "execution_count": 13,
   "id": "c0beb6c0",
   "metadata": {
    "scrolled": true
   },
   "outputs": [
    {
     "name": "stdout",
     "output_type": "stream",
     "text": [
      "scrapeSportsNaviPage start\n",
      "scrapeSportsNaviPage end\n",
      "(['1/4（水）', '1/3（火）'], ['28:30', '28:45', '29:00', '29:00'], ['サウサンプトン', 'フォレスト', 'リーズ', 'ウェストハム', 'アストン・ヴィラ', 'ウルヴァーハンプトン', 'クリスタル・パレス', 'トッテナム'])\n"
     ]
    }
   ],
   "source": [
    "# 関数呼び出し\n",
    "match_info_list = []\n",
    "match_info_list = scrapeSportsNaviPage(t_yyyymmdd[0:8], t_yyyymmdd_week, y_yyyymmdd[0:8], y_yyyymmdd_week)\n",
    "print(match_info_list)"
   ]
  },
  {
   "cell_type": "code",
   "execution_count": 36,
   "id": "c741dbb0",
   "metadata": {},
   "outputs": [],
   "source": [
    "def createMatchInfoList(match_info_list):\n",
    "    \"\"\"\n",
    "    SportsNaviより取得したmatch_info_listを加工してTwitterで配信する際の文字列を作成する関数。\n",
    "    \"\"\"\n",
    "    print('createMatchInfoList start')\n",
    "    \n",
    "    # ホーム＆アウェーで仕分け\n",
    "    home_team_name_list = []\n",
    "    away_team_name_list = []\n",
    "\n",
    "    for num in range(len(match_info_list[2])):\n",
    "        if num % 2 == 0:\n",
    "            home_team_name_list.append(match_info_list[2][num])\n",
    "        elif num % 2 != 0:\n",
    "            away_team_name_list.append(match_info_list[2][num])\n",
    "    \n",
    "    \n",
    "    # BIG6リストに存在すれば保持する\n",
    "    home_team_name_list_ans = []\n",
    "    away_team_name_list_ans = []\n",
    "\n",
    "    for num in range(len(away_team_name_list)):\n",
    "        for big6num in range(len(BIG6_CODE)):\n",
    "            if away_team_name_list[num] == BIG6_CODE[big6num]:\n",
    "                away_team_name_list_ans.append(num)\n",
    "\n",
    "    for num in range(len(home_team_name_list)):\n",
    "        for big6num in range(len(BIG6_CODE)):\n",
    "            if home_team_name_list[num] == BIG6_CODE[big6num]:\n",
    "                home_team_name_list_ans.append(num)\n",
    "                \n",
    "    \n",
    "    # 重複を排除×昇順ソート\n",
    "    club_index = []\n",
    "\n",
    "    for num in range(len(home_team_name_list_ans)):\n",
    "        club_index.append(home_team_name_list_ans[num])\n",
    "    for num in range(len(away_team_name_list_ans)):\n",
    "        club_index.append(away_team_name_list_ans[num])\n",
    "    club_index = set(club_index)\n",
    "    club_index = sorted(club_index)\n",
    "    \n",
    "\n",
    "    # ホームチーム\n",
    "    home_club = []\n",
    "\n",
    "    for num in range(len(club_index)):\n",
    "        home_club.append(home_team_name_list[club_index[num]])\n",
    "\n",
    "\n",
    "    # アウェイチーム\n",
    "    away_club = []\n",
    "\n",
    "    for num in range(len(club_index)):\n",
    "        away_club.append(away_team_name_list[club_index[num]])\n",
    "        \n",
    "\n",
    "    # 試合時間\n",
    "    match_datetime = []\n",
    "\n",
    "    for num in range(len(club_index)):\n",
    "        match_datetime.append(match_info_list[1][club_index[num]])\n",
    "\n",
    "    # TODO：試合日程\n",
    "    # 今後は日付を正確にする\n",
    "    # https://soccer.yahoo.co.jp/ws/category/eng の情報配信時刻が不明なのよ\n",
    "    # match_day = []\n",
    "\n",
    "    # print(match_datetime[num][0:2])\n",
    "\n",
    "    # for num in range(len(match_datetime)):\n",
    "    #     if match_datetime[num][0:2] >= 24:\n",
    "    #         match_day.append()\n",
    "    \n",
    "    print('createMatchInfoList end')\n",
    "    \n",
    "    return match_datetime, home_club, away_club"
   ]
  },
  {
   "cell_type": "code",
   "execution_count": 37,
   "id": "4d5576e8",
   "metadata": {},
   "outputs": [
    {
     "name": "stdout",
     "output_type": "stream",
     "text": [
      "createMatchInfoList start\n",
      "createMatchInfoList end\n",
      "(['28:45', '29:00'], ['リーズ', 'クリスタル・パレス'], ['ウェストハム', 'トッテナム'])\n"
     ]
    }
   ],
   "source": [
    "match_list = createMatchInfoList(match_info_list)\n",
    "print(match_list)"
   ]
  },
  {
   "cell_type": "code",
   "execution_count": null,
   "id": "bc81ba24",
   "metadata": {},
   "outputs": [],
   "source": []
  },
  {
   "cell_type": "code",
   "execution_count": null,
   "id": "de979074",
   "metadata": {},
   "outputs": [],
   "source": []
  },
  {
   "cell_type": "code",
   "execution_count": null,
   "id": "936431f4",
   "metadata": {},
   "outputs": [],
   "source": []
  },
  {
   "cell_type": "code",
   "execution_count": null,
   "id": "010f0519",
   "metadata": {},
   "outputs": [],
   "source": []
  },
  {
   "cell_type": "code",
   "execution_count": null,
   "id": "bf7e75ab",
   "metadata": {},
   "outputs": [],
   "source": []
  },
  {
   "cell_type": "code",
   "execution_count": 235,
   "id": "7ce2a9f7",
   "metadata": {},
   "outputs": [
    {
     "name": "stdout",
     "output_type": "stream",
     "text": [
      "['アーセナル', 'マンチェスター・U', 'マンチェスター・ユナイテッド', 'マンチェスター・C', 'マンチェスター・シティー', 'トッテナム', 'トッテナム・ホットスパー', 'チェルシー', 'リヴァプール', 'ニューカッスル', 'ニューカッスル・ユナイテッド', 'リーズ', 'リーズ・ユナイテッド', 'ブレントフォード']\n",
      "もい！\n"
     ]
    }
   ],
   "source": [
    "# 呼び出してから加工するのはここからにする\n",
    "# BIG6_CODE test\n",
    "print(BIG6_CODE)\n",
    "\n",
    "search_key = 'アーセナル'\n",
    "\n",
    "if search_key in BIG6_CODE:\n",
    "    print('もい！')"
   ]
  },
  {
   "cell_type": "code",
   "execution_count": 286,
   "id": "1896620e",
   "metadata": {},
   "outputs": [
    {
     "name": "stdout",
     "output_type": "stream",
     "text": [
      "2\n"
     ]
    },
    {
     "ename": "TypeError",
     "evalue": "list.append() takes exactly one argument (0 given)",
     "output_type": "error",
     "traceback": [
      "\u001b[1;31m---------------------------------------------------------------------------\u001b[0m",
      "\u001b[1;31mTypeError\u001b[0m                                 Traceback (most recent call last)",
      "Cell \u001b[1;32mIn[286], line 6\u001b[0m\n\u001b[0;32m      3\u001b[0m \u001b[38;5;28mprint\u001b[39m(ans_len)\n\u001b[0;32m      5\u001b[0m \u001b[38;5;28;01mfor\u001b[39;00m num \u001b[38;5;129;01min\u001b[39;00m \u001b[38;5;28mrange\u001b[39m(ans_len):\n\u001b[1;32m----> 6\u001b[0m     \u001b[43mans_num\u001b[49m\u001b[38;5;241;43m.\u001b[39;49m\u001b[43mappend\u001b[49m\u001b[43m(\u001b[49m\u001b[43m)\u001b[49m\n",
      "\u001b[1;31mTypeError\u001b[0m: list.append() takes exactly one argument (0 given)"
     ]
    }
   ],
   "source": [
    "# 没\n",
    "ans_len = max(len(home_team_name_list_ans), len(away_team_name_list_ans))\n",
    "print(ans_len)\n",
    "\n",
    "\n",
    "            "
   ]
  },
  {
   "cell_type": "code",
   "execution_count": 287,
   "id": "f9f47e7b",
   "metadata": {},
   "outputs": [
    {
     "name": "stdout",
     "output_type": "stream",
     "text": [
      "[3, 2]\n"
     ]
    }
   ],
   "source": [
    "# 降順ソート\n",
    "new_list_reverse = sorted(ans, reverse=True)\n",
    "\n",
    "print(new_list_reverse)"
   ]
  },
  {
   "cell_type": "code",
   "execution_count": 288,
   "id": "95b97542",
   "metadata": {},
   "outputs": [
    {
     "name": "stdout",
     "output_type": "stream",
     "text": [
      "[2, 3]\n"
     ]
    }
   ],
   "source": [
    "# 昇順ソート\n",
    "new_list_reverse = sorted(ans)\n",
    "\n",
    "print(new_list_reverse)"
   ]
  },
  {
   "cell_type": "code",
   "execution_count": null,
   "id": "c5afb147",
   "metadata": {},
   "outputs": [],
   "source": []
  }
 ],
 "metadata": {
  "kernelspec": {
   "display_name": "Python 3 (ipykernel)",
   "language": "python",
   "name": "python3"
  },
  "language_info": {
   "codemirror_mode": {
    "name": "ipython",
    "version": 3
   },
   "file_extension": ".py",
   "mimetype": "text/x-python",
   "name": "python",
   "nbconvert_exporter": "python",
   "pygments_lexer": "ipython3",
   "version": "3.9.13"
  }
 },
 "nbformat": 4,
 "nbformat_minor": 5
}
