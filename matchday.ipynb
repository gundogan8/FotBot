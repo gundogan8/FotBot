{
 "cells": [
  {
   "cell_type": "code",
   "execution_count": 34,
   "id": "ec6b891d",
   "metadata": {},
   "outputs": [
    {
     "name": "stdout",
     "output_type": "stream",
     "text": [
      "nyan!\n"
     ]
    }
   ],
   "source": [
    "print('nyan!')"
   ]
  },
  {
   "cell_type": "code",
   "execution_count": 35,
   "id": "cc68e241",
   "metadata": {},
   "outputs": [],
   "source": [
    "import pandas as pd\n",
    "import time\n",
    "import re\n",
    "import tweepy\n",
    "import requests\n",
    "from bs4 import BeautifulSoup\n",
    "from types import MappingProxyType\n",
    "import datetime"
   ]
  },
  {
   "cell_type": "code",
   "execution_count": 36,
   "id": "6448477e",
   "metadata": {},
   "outputs": [
    {
     "name": "stdout",
     "output_type": "stream",
     "text": [
      "2023-01-04 04:07:29.070873 20230104 Wed\n",
      "2023-01-05 04:07:29.070873 20230105 Thu\n"
     ]
    }
   ],
   "source": [
    "nowaday = datetime.datetime.now() # 現在時刻の取得\n",
    "yyyymmdd = nowaday.strftime(\"%Y%m%d\")\n",
    "yyyymmdd_week = nowaday.strftime(\"%a\")\n",
    "\n",
    "print(nowaday, yyyymmdd, yyyymmdd_week)\n",
    "\n",
    "tomorrow = nowaday + datetime.timedelta(1) # 操作後の日付取得\n",
    "yyyymmdd = tomorrow.strftime(\"%Y%m%d\")\n",
    "yyyymmdd_week = tomorrow.strftime(\"%a\")\n",
    "\n",
    "print(tomorrow, yyyymmdd, yyyymmdd_week)"
   ]
  },
  {
   "cell_type": "code",
   "execution_count": 37,
   "id": "def068b8",
   "metadata": {},
   "outputs": [],
   "source": [
    "# transfermarket\n",
    "url = 'https://soccer.yahoo.co.jp/ws/category/eng'\n",
    "\n",
    "# スクレイピング\n",
    "top_r = requests.get(url)\n",
    "\n",
    "# HTMLを解析する\n",
    "top_soup = BeautifulSoup(top_r.content, \"html.parser\")\n",
    "\n",
    "# 出力\n",
    "# print(top_soup)\n",
    "\n",
    "# TODO: BIG6リスト作る"
   ]
  },
  {
   "cell_type": "code",
   "execution_count": 38,
   "id": "c0beb6c0",
   "metadata": {},
   "outputs": [],
   "source": [
    "td_list = top_soup.find\\\n",
    "        ('table', class_='sc-tableGame').find_all('td')\n",
    "# print(td_list)"
   ]
  },
  {
   "cell_type": "code",
   "execution_count": 47,
   "id": "c741dbb0",
   "metadata": {},
   "outputs": [],
   "source": [
    "# 日付\n",
    "match_datetime_list_result = []\n",
    "match_datetime_list = []\n",
    "\n",
    "# ホームチーム\n",
    "home_team_name_list = []\n",
    "\n",
    "# アウェーチーム\n",
    "away_team_name_list = []"
   ]
  },
  {
   "cell_type": "code",
   "execution_count": 48,
   "id": "4d5576e8",
   "metadata": {},
   "outputs": [
    {
     "name": "stdout",
     "output_type": "stream",
     "text": [
      "['', '              1/3（火）', '              ', '              28:45', '            ']\n",
      "\n",
      "              1/3（火）\n",
      "              \n",
      "              28:45\n",
      "            \n",
      "['', '              1/3（火）', '              ', '              28:45', '            ']\n",
      "\n",
      "              1/3（火）\n",
      "              \n",
      "              28:45\n",
      "            \n",
      "['', '              1/3（火）', '              ', '              28:45', '            ']\n",
      "\n",
      "              1/3（火）\n",
      "              \n",
      "              28:45\n",
      "            \n",
      "['', '              1/3（火）', '              ', '              29:00', '            ']\n",
      "\n",
      "              1/3（火）\n",
      "              \n",
      "              29:00\n",
      "            \n",
      "              28:45\n",
      "28:45\n",
      "              28:45\n",
      "28:45\n",
      "              28:45\n",
      "28:45\n",
      "              29:00\n",
      "29:00\n"
     ]
    }
   ],
   "source": [
    "# 後でちゃんとしようね\n",
    "search_key = '1/3（火）'\n",
    "\n",
    "for td in td_list:\n",
    "        # 検索対象の開催日の場合\n",
    "        if search_key in td.text:\n",
    "            work_td = td.text.split('\\n')\n",
    "            print(work_td)\n",
    "            for name in work_td:\n",
    "                # MMDD\n",
    "                print(name)\n",
    "                if re.search(r'(\\d*):(\\d*)', name) is not None:\n",
    "                    match_datetime_list_result.append(name)\n",
    "\n",
    "for name in match_datetime_list_result:\n",
    "    print(name)\n",
    "    name = name.lstrip()\n",
    "    print(name)\n",
    "    match_datetime_list.append(name)"
   ]
  },
  {
   "cell_type": "code",
   "execution_count": 49,
   "id": "bc81ba24",
   "metadata": {},
   "outputs": [
    {
     "name": "stdout",
     "output_type": "stream",
     "text": [
      "['              28:45', '              28:45', '              28:45', '              29:00']\n"
     ]
    }
   ],
   "source": [
    "print(match_datetime_list_result)"
   ]
  },
  {
   "cell_type": "code",
   "execution_count": 51,
   "id": "de979074",
   "metadata": {},
   "outputs": [
    {
     "name": "stdout",
     "output_type": "stream",
     "text": [
      "['28:45', '28:45', '28:45', '29:00']\n"
     ]
    }
   ],
   "source": [
    "print(match_datetime_list)"
   ]
  },
  {
   "cell_type": "code",
   "execution_count": null,
   "id": "c0f9cfe3",
   "metadata": {},
   "outputs": [],
   "source": []
  }
 ],
 "metadata": {
  "kernelspec": {
   "display_name": "Python 3 (ipykernel)",
   "language": "python",
   "name": "python3"
  },
  "language_info": {
   "codemirror_mode": {
    "name": "ipython",
    "version": 3
   },
   "file_extension": ".py",
   "mimetype": "text/x-python",
   "name": "python",
   "nbconvert_exporter": "python",
   "pygments_lexer": "ipython3",
   "version": "3.9.13"
  }
 },
 "nbformat": 4,
 "nbformat_minor": 5
}
