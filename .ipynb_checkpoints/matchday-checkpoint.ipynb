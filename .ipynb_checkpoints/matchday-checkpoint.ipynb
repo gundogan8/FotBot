{
 "cells": [
  {
   "cell_type": "code",
   "execution_count": 88,
   "id": "ec6b891d",
   "metadata": {},
   "outputs": [
    {
     "name": "stdout",
     "output_type": "stream",
     "text": [
      "nyan!\n"
     ]
    }
   ],
   "source": [
    "print('nyan!')"
   ]
  },
  {
   "cell_type": "code",
   "execution_count": 89,
   "id": "cc68e241",
   "metadata": {},
   "outputs": [],
   "source": [
    "import pandas as pd\n",
    "import time\n",
    "import re\n",
    "import tweepy\n",
    "import requests\n",
    "from bs4 import BeautifulSoup\n",
    "from types import MappingProxyType\n",
    "import datetime\n",
    "\n",
    "# BIG6 + α\n",
    "BIG6_CODE = {\n",
    "    'アーセナル',\n",
    "    'マンチェスター・U',\n",
    "    'マンチェスター・ユナイテッド',\n",
    "    'マンチェスター・C',\n",
    "    'マンチェスター・シティー',\n",
    "    'トッテナム',\n",
    "    'トッテナム・ホットスパー',\n",
    "    'チェルシー',\n",
    "    'リヴァプール',\n",
    "    'ニューカッスル',\n",
    "    'ニューカッスル・ユナイテッド',\n",
    "    'リーズ',\n",
    "    'リーズ・ユナイテッド',\n",
    "    'ブレントフォード'\n",
    "}\n",
    "\n",
    "# 曜日（英語 ⇒ 日本語）\n",
    "WEEK_DAYS_DICT: dict = MappingProxyType({\n",
    "        'Mon':'（月）',\n",
    "        'Tue':'（火）',\n",
    "        'Wed':'（水）',\n",
    "        'Thu':'（木）',\n",
    "        'Fri':'（金）',\n",
    "        'Sat':'（土）',\n",
    "        'Sun':'（日）'\n",
    "})"
   ]
  },
  {
   "cell_type": "code",
   "execution_count": 90,
   "id": "6448477e",
   "metadata": {},
   "outputs": [],
   "source": [
    "def scrapeSportsNaviPage(t_yyyymmdd: str, t_en_week_name: str, y_yyyymmdd: str, y_en_week_name: str):\n",
    "    \"\"\"\n",
    "    SportsNaviより引数で指定された開催日・曜日（英語）より、対戦相手および試合日時を取得する関数。\n",
    "    \"\"\"\n",
    "    print('scrapeSportsNaviPage start')\n",
    "    print('引数⇒', t_yyyymmdd, t_yyyymmdd_week, y_yyyymmdd, y_yyyymmdd_week)\n",
    "\n",
    "    # 曜日の英語 ⇒ 日本語へ変換\n",
    "    t_ja_week_name = WEEK_DAYS_DICT.get(t_en_week_name)\n",
    "    y_ja_week_name = WEEK_DAYS_DICT.get(y_en_week_name)\n",
    "    \n",
    "    # 検索キーの作成\n",
    "    t_search_key = str(int(t_yyyymmdd[4:6])) + '/' + str(int(t_yyyymmdd[6:8])) + t_ja_week_name\n",
    "    y_search_key = str(int(y_yyyymmdd[4:6])) + '/' + str(int(y_yyyymmdd[6:8])) + y_ja_week_name\n",
    "    print(t_search_key, y_search_key)\n",
    "\n",
    "    # 対象ページ\n",
    "    url = 'https://soccer.yahoo.co.jp/ws/category/eng'\n",
    "\n",
    "    # スクレイピング\n",
    "    top_r = requests.get(url)\n",
    "\n",
    "    # HTMLを解析する\n",
    "    top_soup = BeautifulSoup(top_r.content, \"html.parser\")\n",
    "\n",
    "    # テーブル情報を取得\n",
    "    td_list = top_soup.find\\\n",
    "            ('table', class_='sc-tableGame').find_all('td')\n",
    "\n",
    "    # 日付\n",
    "    match_datetime_list_result = []\n",
    "    match_datetime_list = []\n",
    "\n",
    "    # ホームチーム\n",
    "    home_team_name_list = []\n",
    "\n",
    "    # アウェーチーム\n",
    "    away_team_name_list = []    \n",
    "    \n",
    "    for td in td_list:\n",
    "            # 検索対象の開催日の場合（00:00～24:00）\n",
    "            if t_search_key in td.text:\n",
    "                work_td = td.text.split('\\n')\n",
    "                # print(work_td)\n",
    "                for name in work_td:\n",
    "                    # MMDD\n",
    "                    # print(name)\n",
    "                    if re.search(r'(\\d*):(\\d*)', name) is not None:\n",
    "                        match_datetime_list_result.append(name)\n",
    "    for td in td_list:\n",
    "            # 検索対象の開催日の場合（24:01～）\n",
    "            if y_search_key in td.text:\n",
    "                work_td = td.text.split('\\n')\n",
    "                # print(work_td)\n",
    "                for name in work_td:\n",
    "                    # MMDD\n",
    "                    # print(name)\n",
    "                    if re.search(r'(\\d*):(\\d*)', name) is not None:\n",
    "                        match_datetime_list_result.append(name)\n",
    "\n",
    "    print('scrapeSportsNaviPage end')\n",
    "    \n",
    "    for name in match_datetime_list_result:\n",
    "        #print(name)\n",
    "        name = name.lstrip()\n",
    "        #print(name)\n",
    "        match_datetime_list.append(name)\n",
    "\n",
    "        \n",
    "    return match_datetime_list;"
   ]
  },
  {
   "cell_type": "code",
   "execution_count": 91,
   "id": "def068b8",
   "metadata": {},
   "outputs": [
    {
     "name": "stdout",
     "output_type": "stream",
     "text": [
      "2023-01-04 05:17:43.376994 20230104 Wed\n",
      "2023-01-03 05:13:51.593117 20230103 Tue\n"
     ]
    }
   ],
   "source": [
    "# 現在時刻の取得\n",
    "today = datetime.datetime.now() \n",
    "t_yyyymmdd = today.strftime(\"%Y%m%d\")\n",
    "t_yyyymmdd_week = today.strftime(\"%a\")\n",
    "\n",
    "print(nowaday, t_yyyymmdd, t_yyyymmdd_week)\n",
    "\n",
    "# 操作後の日付取得\n",
    "yesterday = nowaday + datetime.timedelta(-1)\n",
    "y_yyyymmdd = yesterday.strftime(\"%Y%m%d\")\n",
    "y_yyyymmdd_week = yesterday.strftime(\"%a\")\n",
    "\n",
    "print(tomorrow, y_yyyymmdd, y_yyyymmdd_week)"
   ]
  },
  {
   "cell_type": "code",
   "execution_count": 92,
   "id": "c0beb6c0",
   "metadata": {
    "scrolled": true
   },
   "outputs": [
    {
     "name": "stdout",
     "output_type": "stream",
     "text": [
      "scrapeSportsNaviPage start\n",
      "引数⇒ 20230104 Wed 20230103 Tue\n",
      "1/4（水） 1/3（火）\n",
      "scrapeSportsNaviPage end\n",
      "['28:45', '28:45', '28:45', '29:00']\n"
     ]
    }
   ],
   "source": [
    "# 関数呼び出し\n",
    "match_info_list = []\n",
    "match_info_list = scrapeSportsNaviPage(t_yyyymmdd[0:8], t_yyyymmdd_week, y_yyyymmdd[0:8], y_yyyymmdd_week)\n",
    "print(match_info_list)"
   ]
  },
  {
   "cell_type": "code",
   "execution_count": null,
   "id": "c741dbb0",
   "metadata": {},
   "outputs": [],
   "source": []
  },
  {
   "cell_type": "code",
   "execution_count": null,
   "id": "4d5576e8",
   "metadata": {},
   "outputs": [],
   "source": []
  },
  {
   "cell_type": "code",
   "execution_count": null,
   "id": "bc81ba24",
   "metadata": {},
   "outputs": [],
   "source": []
  },
  {
   "cell_type": "code",
   "execution_count": null,
   "id": "de979074",
   "metadata": {},
   "outputs": [],
   "source": []
  },
  {
   "cell_type": "code",
   "execution_count": null,
   "id": "936431f4",
   "metadata": {},
   "outputs": [],
   "source": []
  },
  {
   "cell_type": "code",
   "execution_count": null,
   "id": "010f0519",
   "metadata": {},
   "outputs": [],
   "source": []
  }
 ],
 "metadata": {
  "kernelspec": {
   "display_name": "Python 3 (ipykernel)",
   "language": "python",
   "name": "python3"
  },
  "language_info": {
   "codemirror_mode": {
    "name": "ipython",
    "version": 3
   },
   "file_extension": ".py",
   "mimetype": "text/x-python",
   "name": "python",
   "nbconvert_exporter": "python",
   "pygments_lexer": "ipython3",
   "version": "3.9.13"
  }
 },
 "nbformat": 4,
 "nbformat_minor": 5
}
