{
 "cells": [
  {
   "cell_type": "code",
   "execution_count": 1,
   "id": "ec6b891d",
   "metadata": {},
   "outputs": [
    {
     "name": "stdout",
     "output_type": "stream",
     "text": [
      "nyan!\n"
     ]
    }
   ],
   "source": [
    "print('nyan!')"
   ]
  },
  {
   "cell_type": "code",
   "execution_count": 2,
   "id": "cc68e241",
   "metadata": {},
   "outputs": [],
   "source": [
    "import pandas as pd\n",
    "import time\n",
    "import re\n",
    "import tweepy\n",
    "import requests\n",
    "from bs4 import BeautifulSoup\n",
    "from types import MappingProxyType\n",
    "import datetime"
   ]
  },
  {
   "cell_type": "code",
   "execution_count": 9,
   "id": "6448477e",
   "metadata": {},
   "outputs": [
    {
     "name": "stdout",
     "output_type": "stream",
     "text": [
      "2023-01-04 01:59:09.815404 20230104 Wed\n",
      "2023-01-05 01:59:09.815404 20230105 Thu\n"
     ]
    }
   ],
   "source": [
    "nowaday = datetime.datetime.now() # 現在時刻の取得\n",
    "yyyymmdd = nowaday.strftime(\"%Y%m%d\")\n",
    "yyyymmdd_week = nowaday.strftime(\"%a\")\n",
    "\n",
    "print(nowaday, yyyymmdd, yyyymmdd_week)\n",
    "\n",
    "tomorrow = nowaday + datetime.timedelta(1) # 操作後の日付取得\n",
    "yyyymmdd = tomorrow.strftime(\"%Y%m%d\")\n",
    "yyyymmdd_week = tomorrow.strftime(\"%a\")\n",
    "\n",
    "print(tomorrow, yyyymmdd, yyyymmdd_week)"
   ]
  },
  {
   "cell_type": "code",
   "execution_count": 23,
   "id": "def068b8",
   "metadata": {},
   "outputs": [],
   "source": [
    "# transfermarket\n",
    "url = 'https://soccer.yahoo.co.jp/ws/category/eng'\n",
    "\n",
    "# スクレイピング\n",
    "top_r = requests.get(url)\n",
    "\n",
    "# HTMLを解析する\n",
    "top_soup = BeautifulSoup(top_r.content, \"html.parser\")\n",
    "\n",
    "# 出力\n",
    "# print(top_soup)\n",
    "\n",
    "# TODO: BIG6リスト作る"
   ]
  },
  {
   "cell_type": "code",
   "execution_count": 25,
   "id": "c0beb6c0",
   "metadata": {},
   "outputs": [
    {
     "name": "stdout",
     "output_type": "stream",
     "text": [
      "[<td class=\"sc-tableGame__data sc-tableGame__data--date\">\n",
      "              1/3（火）\n",
      "              <br/>\n",
      "              28:45\n",
      "            </td>, <td class=\"sc-tableGame__data sc-tableGame__data--category\">第19節</td>, <td class=\"sc-tableGame__data sc-tableGame__data--team\">\n",
      "<a class=\"sc-tableGame__team\" data-cl-params=\"_cl_link:tm_home;\" href=\"https://soccer.yahoo.co.jp/ws/team/4047\">\n",
      "<span aria-hidden=\"true\" class=\"sc-teamLogo sc-teamLogo--ws4047\"></span>\n",
      "</a>\n",
      "<a class=\"sc-tableGame__team\" data-cl-params=\"_cl_link:tm_home;\" href=\"https://soccer.yahoo.co.jp/ws/team/4047\">\n",
      "<span>エヴァートン</span>\n",
      "<span aria-label=\"hidden\"></span>\n",
      "</a>\n",
      "</td>, <td class=\"sc-tableGame__data sc-tableGame__data--score\">\n",
      "<div class=\"sc-tableGame__score\">\n",
      "<a class=\"sc-tableGame__score sc-tableGame__score--hasLink\" data-cl-params=\"_cl_link:gm_card\" href=\"https://soccer.yahoo.co.jp/ws/game/230103001\">\n",
      "<p class=\"sc-tableGame__scoreDetail\">-</p>\n",
      "<p class=\"sc-tableGame__status\">対戦データ</p>\n",
      "</a>\n",
      "</div>\n",
      "</td>, <td class=\"sc-tableGame__data sc-tableGame__data--team\">\n",
      "<a class=\"sc-tableGame__team\" data-cl-params=\"_cl_link:tm_away;\" href=\"https://soccer.yahoo.co.jp/ws/team/100050\">\n",
      "<span aria-hidden=\"true\" class=\"sc-teamLogo sc-teamLogo--ws100050\"></span>\n",
      "</a>\n",
      "<a class=\"sc-tableGame__team\" data-cl-params=\"_cl_link:tm_away;\" href=\"https://soccer.yahoo.co.jp/ws/team/100050\">\n",
      "<span>ブライトン</span>\n",
      "<span aria-label=\"hidden\" class=\"sc-flagW15 sc-flag--jpn\"></span>\n",
      "</a>\n",
      "</td>, <td class=\"sc-tableGame__data sc-tableGame__data--date\">\n",
      "              1/3（火）\n",
      "              <br/>\n",
      "              28:45\n",
      "            </td>, <td class=\"sc-tableGame__data sc-tableGame__data--category\">第19節</td>, <td class=\"sc-tableGame__data sc-tableGame__data--team\">\n",
      "<a class=\"sc-tableGame__team\" data-cl-params=\"_cl_link:tm_home;\" href=\"https://soccer.yahoo.co.jp/ws/team/4693\">\n",
      "<span aria-hidden=\"true\" class=\"sc-teamLogo sc-teamLogo--ws4693\"></span>\n",
      "</a>\n",
      "<a class=\"sc-tableGame__team\" data-cl-params=\"_cl_link:tm_home;\" href=\"https://soccer.yahoo.co.jp/ws/team/4693\">\n",
      "<span>レスター</span>\n",
      "<span aria-label=\"hidden\"></span>\n",
      "</a>\n",
      "</td>, <td class=\"sc-tableGame__data sc-tableGame__data--score\">\n",
      "<div class=\"sc-tableGame__score\">\n",
      "<a class=\"sc-tableGame__score sc-tableGame__score--hasLink\" data-cl-params=\"_cl_link:gm_card\" href=\"https://soccer.yahoo.co.jp/ws/game/230103002\">\n",
      "<p class=\"sc-tableGame__scoreDetail\">-</p>\n",
      "<p class=\"sc-tableGame__status\">対戦データ</p>\n",
      "</a>\n",
      "</div>\n",
      "</td>, <td class=\"sc-tableGame__data sc-tableGame__data--team\">\n",
      "<a class=\"sc-tableGame__team\" data-cl-params=\"_cl_link:tm_away;\" href=\"https://soccer.yahoo.co.jp/ws/team/102785\">\n",
      "<span aria-hidden=\"true\" class=\"sc-teamLogo sc-teamLogo--ws102785\"></span>\n",
      "</a>\n",
      "<a class=\"sc-tableGame__team\" data-cl-params=\"_cl_link:tm_away;\" href=\"https://soccer.yahoo.co.jp/ws/team/102785\">\n",
      "<span>フラム</span>\n",
      "<span aria-label=\"hidden\"></span>\n",
      "</a>\n",
      "</td>, <td class=\"sc-tableGame__data sc-tableGame__data--date\">\n",
      "              1/3（火）\n",
      "              <br/>\n",
      "              28:45\n",
      "            </td>, <td class=\"sc-tableGame__data sc-tableGame__data--category\">第19節</td>, <td class=\"sc-tableGame__data sc-tableGame__data--team\">\n",
      "<a class=\"sc-tableGame__team\" data-cl-params=\"_cl_link:tm_home;\" href=\"https://soccer.yahoo.co.jp/ws/team/4007\">\n",
      "<span aria-hidden=\"true\" class=\"sc-teamLogo sc-teamLogo--ws4007\"></span>\n",
      "</a>\n",
      "<a class=\"sc-tableGame__team\" data-cl-params=\"_cl_link:tm_home;\" href=\"https://soccer.yahoo.co.jp/ws/team/4007\">\n",
      "<span>アーセナル</span>\n",
      "<span aria-label=\"hidden\" class=\"sc-flagW15 sc-flag--jpn\"></span>\n",
      "</a>\n",
      "</td>, <td class=\"sc-tableGame__data sc-tableGame__data--score\">\n",
      "<div class=\"sc-tableGame__score\">\n",
      "<a class=\"sc-tableGame__score sc-tableGame__score--hasLink\" data-cl-params=\"_cl_link:gm_card\" href=\"https://soccer.yahoo.co.jp/ws/game/230103003\">\n",
      "<p class=\"sc-tableGame__scoreDetail\">-</p>\n",
      "<p class=\"sc-tableGame__status\">対戦データ</p>\n",
      "</a>\n",
      "</div>\n",
      "</td>, <td class=\"sc-tableGame__data sc-tableGame__data--team\">\n",
      "<a class=\"sc-tableGame__team\" data-cl-params=\"_cl_link:tm_away;\" href=\"https://soccer.yahoo.co.jp/ws/team/4087\">\n",
      "<span aria-hidden=\"true\" class=\"sc-teamLogo sc-teamLogo--ws4087\"></span>\n",
      "</a>\n",
      "<a class=\"sc-tableGame__team\" data-cl-params=\"_cl_link:tm_away;\" href=\"https://soccer.yahoo.co.jp/ws/team/4087\">\n",
      "<span>ニューカッスル</span>\n",
      "<span aria-label=\"hidden\"></span>\n",
      "</a>\n",
      "</td>, <td class=\"sc-tableGame__data sc-tableGame__data--date\">\n",
      "              1/3（火）\n",
      "              <br/>\n",
      "              29:00\n",
      "            </td>, <td class=\"sc-tableGame__data sc-tableGame__data--category\">第19節</td>, <td class=\"sc-tableGame__data sc-tableGame__data--team\">\n",
      "<a class=\"sc-tableGame__team\" data-cl-params=\"_cl_link:tm_home;\" href=\"https://soccer.yahoo.co.jp/ws/team/4080\">\n",
      "<span aria-hidden=\"true\" class=\"sc-teamLogo sc-teamLogo--ws4080\"></span>\n",
      "</a>\n",
      "<a class=\"sc-tableGame__team\" data-cl-params=\"_cl_link:tm_home;\" href=\"https://soccer.yahoo.co.jp/ws/team/4080\">\n",
      "<span>マンチェスター・U</span>\n",
      "<span aria-label=\"hidden\"></span>\n",
      "</a>\n",
      "</td>, <td class=\"sc-tableGame__data sc-tableGame__data--score\">\n",
      "<div class=\"sc-tableGame__score\">\n",
      "<a class=\"sc-tableGame__score sc-tableGame__score--hasLink\" data-cl-params=\"_cl_link:gm_card\" href=\"https://soccer.yahoo.co.jp/ws/game/230103004\">\n",
      "<p class=\"sc-tableGame__scoreDetail\">-</p>\n",
      "<p class=\"sc-tableGame__status\">対戦データ</p>\n",
      "</a>\n",
      "</div>\n",
      "</td>, <td class=\"sc-tableGame__data sc-tableGame__data--team\">\n",
      "<a class=\"sc-tableGame__team\" data-cl-params=\"_cl_link:tm_away;\" href=\"https://soccer.yahoo.co.jp/ws/team/102706\">\n",
      "<span aria-hidden=\"true\" class=\"sc-teamLogo sc-teamLogo--ws102706\"></span>\n",
      "</a>\n",
      "<a class=\"sc-tableGame__team\" data-cl-params=\"_cl_link:tm_away;\" href=\"https://soccer.yahoo.co.jp/ws/team/102706\">\n",
      "<span>ボーンマス</span>\n",
      "<span aria-label=\"hidden\"></span>\n",
      "</a>\n",
      "</td>]\n"
     ]
    }
   ],
   "source": [
    "td_list = top_soup.find\\\n",
    "        ('table', class_='sc-tableGame').find_all('td')\n",
    "print(td_list)"
   ]
  },
  {
   "cell_type": "code",
   "execution_count": 26,
   "id": "c741dbb0",
   "metadata": {},
   "outputs": [],
   "source": [
    "# 日付\n",
    "# match_date_list = []\n",
    "\n",
    "# 日時\n",
    "match_time_list = []\n",
    "\n",
    "# ホームチーム\n",
    "home_team_name_list = []\n",
    "\n",
    "# アウェーチーム\n",
    "away_team_name_list = []"
   ]
  },
  {
   "cell_type": "code",
   "execution_count": 31,
   "id": "4d5576e8",
   "metadata": {},
   "outputs": [
    {
     "name": "stdout",
     "output_type": "stream",
     "text": [
      "['', '              1/3（火）', '              ', '              28:45', '            ']\n",
      "\n",
      "              1/3（火）\n",
      "              \n",
      "              28:45\n",
      "            \n",
      "['', '              1/3（火）', '              ', '              28:45', '            ']\n",
      "\n",
      "              1/3（火）\n",
      "              \n",
      "              28:45\n",
      "            \n",
      "['', '              1/3（火）', '              ', '              28:45', '            ']\n",
      "\n",
      "              1/3（火）\n",
      "              \n",
      "              28:45\n",
      "            \n",
      "['', '              1/3（火）', '              ', '              29:00', '            ']\n",
      "\n",
      "              1/3（火）\n",
      "              \n",
      "              29:00\n",
      "            \n"
     ]
    }
   ],
   "source": [
    "# 後でちゃんとしようね\n",
    "search_key = '1/3（火）'\n",
    "\n",
    "for td in td_list:\n",
    "        # 検索対象の開催日の場合\n",
    "        if search_key in td.text:\n",
    "            work_td = td.text.split('\\n')\n",
    "            print(work_td)\n",
    "            for name in work_td:\n",
    "                # MMDD\n",
    "                print(name)\n",
    "                if re.search(r'(\\d*):(\\d*)', name) is not None:\n",
    "                    match_time_list.append(name)\n",
    "                    "
   ]
  },
  {
   "cell_type": "code",
   "execution_count": 33,
   "id": "bc81ba24",
   "metadata": {},
   "outputs": [
    {
     "name": "stdout",
     "output_type": "stream",
     "text": [
      "['              28:45', '              28:45', '              28:45', '              29:00', '              28:45', '              28:45', '              28:45', '              29:00']\n"
     ]
    }
   ],
   "source": [
    "print(match_time_list)"
   ]
  },
  {
   "cell_type": "code",
   "execution_count": null,
   "id": "de979074",
   "metadata": {},
   "outputs": [],
   "source": []
  }
 ],
 "metadata": {
  "kernelspec": {
   "display_name": "Python 3 (ipykernel)",
   "language": "python",
   "name": "python3"
  },
  "language_info": {
   "codemirror_mode": {
    "name": "ipython",
    "version": 3
   },
   "file_extension": ".py",
   "mimetype": "text/x-python",
   "name": "python",
   "nbconvert_exporter": "python",
   "pygments_lexer": "ipython3",
   "version": "3.9.13"
  }
 },
 "nbformat": 4,
 "nbformat_minor": 5
}
