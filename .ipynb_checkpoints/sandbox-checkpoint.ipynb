{
 "cells": [
  {
   "cell_type": "code",
   "execution_count": 1,
   "metadata": {},
   "outputs": [
    {
     "name": "stdout",
     "output_type": "stream",
     "text": [
      "gundogan8!!!!\n"
     ]
    }
   ],
   "source": [
    "print('gundogan8!!!!')"
   ]
  },
  {
   "cell_type": "code",
   "execution_count": 12,
   "metadata": {},
   "outputs": [],
   "source": [
    "import pandas as pd\n",
    "import time\n",
    "import re\n",
    "import tweepy\n",
    "import requests\n",
    "from bs4 import BeautifulSoup\n",
    "from types import MappingProxyType\n",
    "import datetime"
   ]
  },
  {
   "cell_type": "code",
   "execution_count": 13,
   "metadata": {},
   "outputs": [
    {
     "name": "stdout",
     "output_type": "stream",
     "text": [
      "2023-01-03 10:56:51.646709 20230103 Tue\n"
     ]
    }
   ],
   "source": [
    "nowaday = datetime.datetime.now() # 現在時刻の取得\n",
    "yyyymmdd = nowaday.strftime(\"%Y%m%d\")\n",
    "yyyymmdd_week = nowaday.strftime(\"%a\")\n",
    "\n",
    "print(nowaday, yyyymmdd, yyyymmdd_week)"
   ]
  },
  {
   "cell_type": "code",
   "execution_count": null,
   "metadata": {},
   "outputs": [],
   "source": [
    "tomorrow = nowaday + datetime.timedelta(1) # 操作後の日付取得\n",
    "yyyymmdd = tomorrow.strftime(\"%Y%m%d\")\n",
    "yyyymmdd_week = tomorrow.strftime(\"%a\")\n",
    "\n",
    "print(tomorrow, yyyymmdd, yyyymmdd_week)"
   ]
  },
  {
   "cell_type": "code",
   "execution_count": null,
   "metadata": {},
   "outputs": [],
   "source": [
    "# 試合日程を入れるリスト\n",
    "match_day_list = []\n",
    "\n",
    "# スクレイピング対象のURL\n",
    "url = 'https://www.fotmob.com/teams/8456/fixtures/manchester-city'\n",
    "\n",
    "# スクレイピング\n",
    "top_r = requests.get(url)\n",
    "\n",
    "# HTMLを解析する\n",
    "top_soup = BeautifulSoup(top_r.content, \"html.parser\")\n",
    "\n",
    "date_list = top_soup.find\\\n",
    "    ('div', class_='css-is2w92-DateWrapper e1ym2d3s0').find_all('span')\n",
    "\n",
    "clock_list = top_soup.find\\\n",
    "    ('div', class_='css-141uc9e-ResultBox eeg401l2').find_all('span')\n",
    "\n",
    "\n",
    "print(td_list, clock_list)"
   ]
  },
  {
   "cell_type": "code",
   "execution_count": null,
   "metadata": {},
   "outputs": [],
   "source": []
  },
  {
   "cell_type": "code",
   "execution_count": null,
   "metadata": {},
   "outputs": [],
   "source": []
  }
 ],
 "metadata": {
  "kernelspec": {
   "display_name": "Python 3 (ipykernel)",
   "language": "python",
   "name": "python3"
  },
  "language_info": {
   "codemirror_mode": {
    "name": "ipython",
    "version": 3
   },
   "file_extension": ".py",
   "mimetype": "text/x-python",
   "name": "python",
   "nbconvert_exporter": "python",
   "pygments_lexer": "ipython3",
   "version": "3.8.10"
  }
 },
 "nbformat": 4,
 "nbformat_minor": 4
}
