{
 "cells": [
  {
   "cell_type": "code",
   "execution_count": 1,
   "id": "8335b4b6",
   "metadata": {},
   "outputs": [],
   "source": [
    "import pandas as pd\n",
    "import time\n",
    "import re\n",
    "import tweepy\n",
    "import requests\n",
    "from bs4 import BeautifulSoup\n",
    "from types import MappingProxyType\n",
    "import datetime\n",
    "\n",
    "### 定数定義\n",
    "\n"
   ]
  },
  {
   "cell_type": "code",
   "execution_count": 2,
   "id": "a6611c02",
   "metadata": {},
   "outputs": [],
   "source": [
    "# 対象ページ\n",
    "url = 'https://fbref.com/en/players/c1242d4e/Stefan-Ortega'\n",
    "\n",
    "# スクレイピング\n",
    "top_r = requests.get(url)\n",
    "\n",
    "# HTMLを解析する\n",
    "top_soup = BeautifulSoup(top_r.content, \"html.parser\")\n",
    "\n",
    "# 選手情報を取得\n",
    "td_list = top_soup.find\\\n",
    "        ('div', id='meta').find_all('p')\n",
    "\n",
    "# print(td_list)"
   ]
  },
  {
   "cell_type": "code",
   "execution_count": 3,
   "id": "bcc4c56c",
   "metadata": {},
   "outputs": [
    {
     "name": "stdout",
     "output_type": "stream",
     "text": [
      "[' Wages: \\n    \\n£ 55,000 Weekly\\n\\n        Expires June 2025. Via Capology.\\n    ']\n"
     ]
    }
   ],
   "source": [
    "t_search_key = 'Expires'\n",
    "expires_list = []\n",
    "\n",
    "for p in td_list:\n",
    "    if t_search_key in p.text:\n",
    "        if re.search(r'Expires', p.text) is not None:\n",
    "            expires_list.append(p.text)\n",
    "            \n",
    "print(expires_list)"
   ]
  },
  {
   "cell_type": "code",
   "execution_count": 41,
   "id": "eada9c21",
   "metadata": {},
   "outputs": [],
   "source": [
    "# 契約期間と年棒・週休をスレッド形式で配信する。\n",
    "# 対象ページ\n",
    "url = 'https://www.spotrac.com/epl/manchester-city-fc/contracts/'\n",
    "\n",
    "# スクレイピング\n",
    "top_r = requests.get(url)\n",
    "\n",
    "# HTMLを解析する\n",
    "top_soup = BeautifulSoup(top_r.content, \"html.parser\")\n",
    "\n",
    "# テーブル情報を取得\n",
    "td_list = top_soup.find\\\n",
    "        ('table').find_all('td')\n",
    "    \n",
    "player_name_list = []\n",
    "player_posi_list = []\n",
    "player_age_list = []\n",
    "team_contract_list = []\n",
    "avg_salary_list = []\n",
    "transfer_fee_list = []\n",
    "expired_year_list = []\n",
    "\n",
    "for td in td_list:\n",
    "    work_td = td.text.split('\\n')\n",
    "    # アルファベット    \n",
    "    # 2桁の数値\n",
    "    # £が含まれている\n",
    "    # 4桁の数値\n",
    "    \n"
   ]
  },
  {
   "cell_type": "code",
   "execution_count": null,
   "id": "26d7f84e",
   "metadata": {},
   "outputs": [],
   "source": [
    "df = pd.DataFrame()\n",
    "\n",
    "# 1秒スリープ\n",
    "time.sleep(1)\n",
    "\n",
    "# スクレイピング対象のURLを生成する\n",
    "url = 'https://www.spotrac.com/epl/manchester-city-fc/contracts/'\n",
    "df = pd.read_html(url)[0]\n",
    "# マルチインデックスを解消する\n",
    "df = df.T.reset_index(level=0, drop=True).T\n",
    "​\n",
    "html = requests.get(url)\n",
    "html.encoding = \"EUC-JP\"\n",
    "# HTMLを解析する\n",
    "soup = BeautifulSoup(html.text, \"lxml\")"
   ]
  }
 ],
 "metadata": {
  "kernelspec": {
   "display_name": "Python 3 (ipykernel)",
   "language": "python",
   "name": "python3"
  },
  "language_info": {
   "codemirror_mode": {
    "name": "ipython",
    "version": 3
   },
   "file_extension": ".py",
   "mimetype": "text/x-python",
   "name": "python",
   "nbconvert_exporter": "python",
   "pygments_lexer": "ipython3",
   "version": "3.9.13"
  }
 },
 "nbformat": 4,
 "nbformat_minor": 5
}
