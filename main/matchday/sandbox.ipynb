{
 "cells": [
  {
   "cell_type": "code",
   "execution_count": 11,
   "metadata": {},
   "outputs": [
    {
     "name": "stdout",
     "output_type": "stream",
     "text": [
      "gundogan8!!!!\n"
     ]
    }
   ],
   "source": [
    "print('gundogan8!!!!')"
   ]
  },
  {
   "cell_type": "code",
   "execution_count": 12,
   "metadata": {},
   "outputs": [],
   "source": [
    "import pandas as pd\n",
    "import time\n",
    "import re\n",
    "import tweepy\n",
    "import requests\n",
    "from bs4 import BeautifulSoup\n",
    "from types import MappingProxyType\n",
    "import datetime"
   ]
  },
  {
   "cell_type": "code",
   "execution_count": 13,
   "metadata": {},
   "outputs": [
    {
     "name": "stdout",
     "output_type": "stream",
     "text": [
      "2023-01-04 00:19:37.015341 20230104 Wed\n"
     ]
    }
   ],
   "source": [
    "nowaday = datetime.datetime.now() # 現在時刻の取得\n",
    "yyyymmdd = nowaday.strftime(\"%Y%m%d\")\n",
    "yyyymmdd_week = nowaday.strftime(\"%a\")\n",
    "\n",
    "print(nowaday, yyyymmdd, yyyymmdd_week)"
   ]
  },
  {
   "cell_type": "code",
   "execution_count": 14,
   "metadata": {},
   "outputs": [
    {
     "name": "stdout",
     "output_type": "stream",
     "text": [
      "2023-01-05 00:19:37.015341 20230105 Thu\n"
     ]
    }
   ],
   "source": [
    "tomorrow = nowaday + datetime.timedelta(1) # 操作後の日付取得\n",
    "yyyymmdd = tomorrow.strftime(\"%Y%m%d\")\n",
    "yyyymmdd_week = tomorrow.strftime(\"%a\")\n",
    "\n",
    "print(tomorrow, yyyymmdd, yyyymmdd_week)"
   ]
  },
  {
   "cell_type": "code",
   "execution_count": 42,
   "metadata": {},
   "outputs": [],
   "source": [
    "# 試合日程を入れるリスト\n",
    "match_day_list = []\n",
    "\n",
    "# スクレイピング対象のURL\n",
    "url = 'https://www.fotmob.com/teams/8456/fixtures/manchester-city'\n",
    "\n",
    "# スクレイピング\n",
    "top_r = requests.get(url)\n",
    "\n",
    "# HTMLを解析する\n",
    "top_soup = BeautifulSoup(top_r.content, \"html.parser\")\n",
    "# print(top_soup)"
   ]
  },
  {
   "cell_type": "code",
   "execution_count": 29,
   "metadata": {
    "scrolled": true
   },
   "outputs": [],
   "source": [
    "# 使えないけど有効\n",
    "links = [url.get('href') for url in top_soup.find_all('a')]\n",
    "# print(links)\n",
    "\n",
    "# anckerタグを抽出\n",
    "# date_list = top_soup.find('/match/3901068/matchfacts/leicester-city-vs-manchester-city')\n"
   ]
  },
  {
   "cell_type": "code",
   "execution_count": null,
   "metadata": {},
   "outputs": [],
   "source": [
    "# print(date_list)"
   ]
  },
  {
   "cell_type": "code",
   "execution_count": 31,
   "metadata": {},
   "outputs": [
    {
     "name": "stdout",
     "output_type": "stream",
     "text": [
      "None\n"
     ]
    }
   ],
   "source": [
    "list = top_soup.find\\\n",
    "        ('div', class_='css-mq7mn-Man City e7pc1841')\n",
    "\n",
    "# list = top_soup.find\\\n",
    "#         ('div', class_='css-mq7mn-Group e7pc1841').find_all('td')\n",
    "\n",
    "print(list)\n"
   ]
  },
  {
   "cell_type": "code",
   "execution_count": 34,
   "metadata": {},
   "outputs": [],
   "source": [
    "test = top_soup.find_all('div')\n",
    "# print(test)"
   ]
  },
  {
   "cell_type": "code",
   "execution_count": 41,
   "metadata": {},
   "outputs": [],
   "source": [
    "test = top_soup.find(text=re.compile(r'\"/match/.*$'))\n",
    "# print(test)"
   ]
  },
  {
   "cell_type": "code",
   "execution_count": 40,
   "metadata": {},
   "outputs": [],
   "source": [
    "# 整理"
   ]
  },
  {
   "cell_type": "code",
   "execution_count": null,
   "metadata": {},
   "outputs": [],
   "source": []
  }
 ],
 "metadata": {
  "kernelspec": {
   "display_name": "Python 3 (ipykernel)",
   "language": "python",
   "name": "python3"
  },
  "language_info": {
   "codemirror_mode": {
    "name": "ipython",
    "version": 3
   },
   "file_extension": ".py",
   "mimetype": "text/x-python",
   "name": "python",
   "nbconvert_exporter": "python",
   "pygments_lexer": "ipython3",
   "version": "3.9.13"
  }
 },
 "nbformat": 4,
 "nbformat_minor": 4
}
